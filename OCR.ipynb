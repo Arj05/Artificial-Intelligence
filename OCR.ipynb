{
 "cells": [
  {
   "cell_type": "code",
   "execution_count": null,
   "metadata": {},
   "outputs": [],
   "source": [
    "from tkinter import *\n",
    "from tkinter import ttk\n",
    "from tkinter.filedialog import askopenfilename\n",
    "from PIL import Image\n",
    "import pytesseract\n",
    "\n",
    "root = Tk(  )\n",
    "\n",
    "def readFimage():\n",
    "    path = PathTextBox.get('1.0','end-1c')\n",
    "    if path:\n",
    "        im = Image.open(path)\n",
    "        text = pytesseract.image_to_string(im, lang = 'eng')\n",
    "        ResultTextBox.delete('1.0',END)\n",
    "        ResultTextBox.insert(END,text)\n",
    "    else:\n",
    "        ResultTextBox.delete('1.0',END)\n",
    "        ResultTextBox.insert(END,\"FILE CANNOT BE READ\")\n",
    "    \n",
    "\n",
    "def OpenFile():\n",
    "    name = askopenfilename(initialdir=\"/\",\n",
    "                           filetypes =((\"PNG File\", \"*.png\"),(\"BMP File\", \"*.bmp\"),(\"JPEG File\", \"*.jpeg\")),\n",
    "                           title = \"Choose a file.\"\n",
    "                           ) \n",
    "    PathTextBox.delete(\"1.0\",END)\n",
    "    PathTextBox.insert(END,name)\n",
    "Title = root.title( \"Image Reader!\")\n",
    "path = StringVar()\n",
    "\n",
    "HeadLabel1 = Label(root,text=\"Image \")\n",
    "HeadLabel1.grid(row = 1,column = 1,sticky=(E))\n",
    "HeadLabel2 = Label(root,text=\" Reader\")\n",
    "HeadLabel2.grid(row = 1,column = 2,sticky=(W))\n",
    "\n",
    "InputLabel = Label(root,text = \"INPUT IMAGE:\")\n",
    "InputLabel.grid(row=2,column = 1)\n",
    "\n",
    "BrowseButton = Button(root,text=\"Browse\",command = OpenFile)\n",
    "BrowseButton.grid(row=2,column=2)\n",
    "\n",
    "PathLabel = Label(root,text = \"Path:\")\n",
    "PathLabel.grid(row = 3,column=1,sticky=(W))\n",
    "\n",
    "PathTextBox = Text(root,height = 2)\n",
    "PathTextBox.grid(row = 4,column = 1,columnspan=2)\n",
    "\n",
    "ReadButton = Button(root,text=\"READ FROM IMAGE\",command = readFimage)\n",
    "ReadButton.grid(row = 5,column = 2)\n",
    "\n",
    "DataLabel = Label(root,text = \"DATA IN IMAGE:\")\n",
    "DataLabel.grid(row = 6,column=1,sticky=(W))\n",
    "\n",
    "ResultTextBox = Text(root,height = 6)\n",
    "ResultTextBox.grid(row = 7,column = 1,columnspan=2)\n",
    "\n",
    "\n",
    "\n",
    "root.mainloop()"
   ]
  },
  {
   "cell_type": "code",
   "execution_count": null,
   "metadata": {},
   "outputs": [],
   "source": []
  }
 ],
 "metadata": {
  "kernelspec": {
   "display_name": "Python 3",
   "language": "python",
   "name": "python3"
  },
  "language_info": {
   "codemirror_mode": {
    "name": "ipython",
    "version": 3
   },
   "file_extension": ".py",
   "mimetype": "text/x-python",
   "name": "python",
   "nbconvert_exporter": "python",
   "pygments_lexer": "ipython3",
   "version": "3.6.7"
  }
 },
 "nbformat": 4,
 "nbformat_minor": 2
}
